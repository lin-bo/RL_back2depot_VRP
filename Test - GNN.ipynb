{
 "cells": [
  {
   "cell_type": "code",
   "execution_count": 1,
   "id": "28e0f3d9",
   "metadata": {},
   "outputs": [
    {
     "name": "stderr",
     "output_type": "stream",
     "text": [
      "Using backend: pytorch\n"
     ]
    }
   ],
   "source": [
    "from dgl.dataloading import GraphDataLoader"
   ]
  },
  {
   "cell_type": "code",
   "execution_count": 2,
   "id": "7339c802",
   "metadata": {},
   "outputs": [
    {
     "data": {
      "text/plain": [
       "<torch._C.Generator at 0x137bc5a7950>"
      ]
     },
     "execution_count": 2,
     "metadata": {},
     "output_type": "execute_result"
    }
   ],
   "source": [
    "import torch\n",
    "torch.manual_seed(135)"
   ]
  },
  {
   "cell_type": "code",
   "execution_count": 3,
   "id": "a95ff223",
   "metadata": {},
   "outputs": [],
   "source": [
    "from prob import VRPDGLDataset\n",
    "from model import QGNN\n",
    "from utils import returnState"
   ]
  },
  {
   "cell_type": "code",
   "execution_count": 4,
   "id": "60e7eff9",
   "metadata": {
    "scrolled": false
   },
   "outputs": [
    {
     "name": "stderr",
     "output_type": "stream",
     "text": [
      "100%|█████████████████████████████████████████████████████████████████████████████████████████████████████| 8/8 [00:00<00:00, 83.32it/s]\n"
     ]
    }
   ],
   "source": [
    "# load data\n",
    "data = VRPDGLDataset(num_samples=8)\n",
    "dataloader = GraphDataLoader(data, batch_size=4)"
   ]
  },
  {
   "cell_type": "code",
   "execution_count": 5,
   "id": "d9c9cb15",
   "metadata": {},
   "outputs": [],
   "source": [
    "model = QGNN(x_feats=2, w_feats=1, e_feats=64).to(\"cuda\")"
   ]
  },
  {
   "cell_type": "code",
   "execution_count": 6,
   "id": "6037eeb7",
   "metadata": {},
   "outputs": [
    {
     "name": "stdout",
     "output_type": "stream",
     "text": [
      "tensor([[-17.6270],\n",
      "        [-17.2004],\n",
      "        [-17.4057],\n",
      "        [-17.1188]], device='cuda:0', grad_fn=<AddmmBackward0>)\n",
      "tensor([[-16.8628],\n",
      "        [-16.6751],\n",
      "        [-16.4709],\n",
      "        [-16.6258]], device='cuda:0', grad_fn=<AddmmBackward0>)\n",
      "torch.Size([4, 1])\n"
     ]
    }
   ],
   "source": [
    "for d, g in dataloader:\n",
    "    g = g.to(\"cuda\")\n",
    "    state = returnState(d)\n",
    "    action = torch.ones((4,1), device=\"cuda\")\n",
    "    print(model(g, state, action))\n",
    "print(model(g, state, action).shape)"
   ]
  },
  {
   "cell_type": "code",
   "execution_count": 7,
   "id": "fabbe7e0",
   "metadata": {
    "scrolled": false
   },
   "outputs": [
    {
     "name": "stdout",
     "output_type": "stream",
     "text": [
      "\n",
      "Generating dataset...\n"
     ]
    },
    {
     "name": "stderr",
     "output_type": "stream",
     "text": [
      "100%|███████████████████████████████████████████████████████████████████████████████████████████████████| 12/12 [00:00<00:00, 88.22it/s]\n"
     ]
    },
    {
     "name": "stdout",
     "output_type": "stream",
     "text": [
      "\n",
      "Loading routing agent...\n",
      "  [*] Loading model from ./attention_model/pretrained_tsp/tsp_50\\epoch-99.pt\n",
      "\n",
      "Loading return2depot agent...\n",
      "\n",
      "Training model...\n"
     ]
    },
    {
     "name": "stderr",
     "output_type": "stream",
     "text": [
      "100%|█████████████████████████████████████████████████████████████████████████████████████████████████████| 3/3 [00:45<00:00, 15.18s/it]\n"
     ]
    }
   ],
   "source": [
    "from train import train\n",
    "train(size=50, lr=1e-4, batch=4, num_samples=12)"
   ]
  },
  {
   "cell_type": "code",
   "execution_count": null,
   "id": "e4a7baea",
   "metadata": {},
   "outputs": [],
   "source": []
  }
 ],
 "metadata": {
  "kernelspec": {
   "display_name": "Python 3",
   "language": "python",
   "name": "python3"
  },
  "language_info": {
   "codemirror_mode": {
    "name": "ipython",
    "version": 3
   },
   "file_extension": ".py",
   "mimetype": "text/x-python",
   "name": "python",
   "nbconvert_exporter": "python",
   "pygments_lexer": "ipython3",
   "version": "3.8.8"
  }
 },
 "nbformat": 4,
 "nbformat_minor": 5
}

{
 "cells": [
  {
   "cell_type": "code",
   "execution_count": 1,
   "id": "28e0f3d9",
   "metadata": {},
   "outputs": [
    {
     "name": "stderr",
     "output_type": "stream",
     "text": [
      "Using backend: pytorch\n"
     ]
    }
   ],
   "source": [
    "from dgl.dataloading import GraphDataLoader"
   ]
  },
  {
   "cell_type": "code",
   "execution_count": 2,
   "id": "7339c802",
   "metadata": {},
   "outputs": [
    {
     "data": {
      "text/plain": [
       "<torch._C.Generator at 0x277002c8950>"
      ]
     },
     "execution_count": 2,
     "metadata": {},
     "output_type": "execute_result"
    }
   ],
   "source": [
    "import torch\n",
    "torch.manual_seed(135)"
   ]
  },
  {
   "cell_type": "code",
   "execution_count": 3,
   "id": "a95ff223",
   "metadata": {},
   "outputs": [],
   "source": [
    "from prob import VRPDGLDataset\n",
    "from model import QGNN\n",
    "from utils import returnState"
   ]
  },
  {
   "cell_type": "code",
   "execution_count": 4,
   "id": "60e7eff9",
   "metadata": {
    "scrolled": false
   },
   "outputs": [
    {
     "name": "stderr",
     "output_type": "stream",
     "text": [
      "100%|█████████████████████████████████████████████████████████████████████████████████████████████████████| 8/8 [00:00<00:00, 83.32it/s]\n"
     ]
    }
   ],
   "source": [
    "# load data\n",
    "data = VRPDGLDataset(num_samples=8)\n",
    "dataloader = GraphDataLoader(data, batch_size=4)"
   ]
  },
  {
   "cell_type": "code",
   "execution_count": 5,
   "id": "d9c9cb15",
   "metadata": {},
   "outputs": [],
   "source": [
    "model = QGNN(x_feats=2, w_feats=1, e_feats=64).to(\"cuda\")"
   ]
  },
  {
   "cell_type": "code",
   "execution_count": 6,
   "id": "6037eeb7",
   "metadata": {},
   "outputs": [
    {
     "name": "stdout",
     "output_type": "stream",
     "text": [
      "tensor([[-17.6270],\n",
      "        [-17.2004],\n",
      "        [-17.4057],\n",
      "        [-17.1188]], device='cuda:0', grad_fn=<AddmmBackward0>)\n",
      "torch.Size([4, 1])\n"
     ]
    }
   ],
   "source": [
    "for d, g in dataloader:\n",
    "    g = g.to(\"cuda\")\n",
    "    state = returnState(d, g)\n",
    "    action = torch.ones((4,1), device=\"cuda\")\n",
    "    print(model(state, action))\n",
    "    break\n",
    "print(model(state, action).shape)"
   ]
  },
  {
   "cell_type": "code",
   "execution_count": 7,
   "id": "fabbe7e0",
   "metadata": {
    "scrolled": false
   },
   "outputs": [
    {
     "name": "stdout",
     "output_type": "stream",
     "text": [
      "\n",
      "Generating dataset...\n"
     ]
    },
    {
     "name": "stderr",
     "output_type": "stream",
     "text": [
      "100%|█████████████████████████████████████████████████████████████████████████████████████████████████| 128/128 [00:01<00:00, 78.04it/s]\n"
     ]
    },
    {
     "name": "stdout",
     "output_type": "stream",
     "text": [
      "\n",
      "Loading routing agent...\n",
      "  [*] Loading model from ./attention_model/pretrained_tsp/tsp_20\\epoch-99.pt\n",
      "\n",
      "Loading return2depot agent...\n",
      "\n",
      "Training model...\n"
     ]
    },
    {
     "name": "stderr",
     "output_type": "stream",
     "text": [
      "Iter 1, Loss: 112439.9375:   0%|                                                                                  | 0/2 [00:00<?, ?it/s]"
     ]
    },
    {
     "name": "stdout",
     "output_type": "stream",
     "text": [
      "tensor(117671.1172, device='cuda:0', grad_fn=<MseLossBackward0>)\n",
      "tensor(112439.9375, device='cuda:0', grad_fn=<MseLossBackward0>)\n"
     ]
    },
    {
     "name": "stderr",
     "output_type": "stream",
     "text": [
      "Iter 3, Loss: 106528.5469:   0%|                                                                                  | 0/2 [00:01<?, ?it/s]"
     ]
    },
    {
     "name": "stdout",
     "output_type": "stream",
     "text": [
      "tensor(112433.1094, device='cuda:0', grad_fn=<MseLossBackward0>)\n",
      "tensor(106528.5469, device='cuda:0', grad_fn=<MseLossBackward0>)\n",
      "tensor(117592.5000, device='cuda:0', grad_fn=<MseLossBackward0>)\n"
     ]
    },
    {
     "name": "stderr",
     "output_type": "stream",
     "text": [
      "Iter 7, Loss: 117540.4688:   0%|                                                                                  | 0/2 [00:01<?, ?it/s]"
     ]
    },
    {
     "name": "stdout",
     "output_type": "stream",
     "text": [
      "tensor(102205.5781, device='cuda:0', grad_fn=<MseLossBackward0>)\n",
      "tensor(106480.4531, device='cuda:0', grad_fn=<MseLossBackward0>)\n",
      "tensor(117540.4688, device='cuda:0', grad_fn=<MseLossBackward0>)\n"
     ]
    },
    {
     "name": "stderr",
     "output_type": "stream",
     "text": [
      "Iter 10, Loss: 82928.4844:   0%|                                                                                  | 0/2 [00:01<?, ?it/s]"
     ]
    },
    {
     "name": "stdout",
     "output_type": "stream",
     "text": [
      "tensor(106445.9531, device='cuda:0', grad_fn=<MseLossBackward0>)\n",
      "tensor(94881.5078, device='cuda:0', grad_fn=<MseLossBackward0>)\n",
      "tensor(82928.4844, device='cuda:0', grad_fn=<MseLossBackward0>)\n"
     ]
    },
    {
     "name": "stderr",
     "output_type": "stream",
     "text": [
      "Iter 13, Loss: 94866.7812:   0%|                                                                                  | 0/2 [00:01<?, ?it/s]"
     ]
    },
    {
     "name": "stdout",
     "output_type": "stream",
     "text": [
      "tensor(97097.2969, device='cuda:0', grad_fn=<MseLossBackward0>)\n",
      "tensor(94870.8594, device='cuda:0', grad_fn=<MseLossBackward0>)\n",
      "tensor(94866.7812, device='cuda:0', grad_fn=<MseLossBackward0>)\n"
     ]
    },
    {
     "name": "stderr",
     "output_type": "stream",
     "text": [
      "Iter 16, Loss: 86566.4141:   0%|                                                                                  | 0/2 [00:02<?, ?it/s]"
     ]
    },
    {
     "name": "stdout",
     "output_type": "stream",
     "text": [
      "tensor(83558.7500, device='cuda:0', grad_fn=<MseLossBackward0>)\n",
      "tensor(85134.4922, device='cuda:0', grad_fn=<MseLossBackward0>)\n",
      "tensor(86566.4141, device='cuda:0', grad_fn=<MseLossBackward0>)\n",
      "tensor(86560.0469, device='cuda:0', grad_fn=<MseLossBackward0>)\n"
     ]
    },
    {
     "name": "stderr",
     "output_type": "stream",
     "text": [
      "Iter 21, Loss: 91677.7500:   0%|                                                                                  | 0/2 [00:02<?, ?it/s]"
     ]
    },
    {
     "name": "stdout",
     "output_type": "stream",
     "text": [
      "tensor(86552.0625, device='cuda:0', grad_fn=<MseLossBackward0>)\n",
      "tensor(86543.3906, device='cuda:0', grad_fn=<MseLossBackward0>)\n",
      "tensor(112340.1406, device='cuda:0', grad_fn=<MseLossBackward0>)\n",
      "tensor(91677.7500, device='cuda:0', grad_fn=<MseLossBackward0>)\n"
     ]
    },
    {
     "name": "stderr",
     "output_type": "stream",
     "text": [
      "Iter 25, Loss: 85056.9531:   0%|                                                                                  | 0/2 [00:02<?, ?it/s]"
     ]
    },
    {
     "name": "stdout",
     "output_type": "stream",
     "text": [
      "tensor(85104.4297, device='cuda:0', grad_fn=<MseLossBackward0>)\n",
      "tensor(117294.8906, device='cuda:0', grad_fn=<MseLossBackward0>)\n",
      "tensor(86497.5781, device='cuda:0', grad_fn=<MseLossBackward0>)\n",
      "tensor(85056.9531, device='cuda:0', grad_fn=<MseLossBackward0>)\n"
     ]
    },
    {
     "name": "stderr",
     "output_type": "stream",
     "text": [
      "Iter 28, Loss: 86459.0469:   0%|                                                                                  | 0/2 [00:02<?, ?it/s]"
     ]
    },
    {
     "name": "stdout",
     "output_type": "stream",
     "text": [
      "tensor(106180.0938, device='cuda:0', grad_fn=<MseLossBackward0>)\n",
      "tensor(85087.1484, device='cuda:0', grad_fn=<MseLossBackward0>)\n",
      "tensor(86459.0469, device='cuda:0', grad_fn=<MseLossBackward0>)\n",
      "tensor(95400.5156, device='cuda:0', grad_fn=<MseLossBackward0>)\n"
     ]
    },
    {
     "name": "stderr",
     "output_type": "stream",
     "text": [
      "Iter 33, Loss: 96819.0469:  50%|█████████████████████████████████████                                     | 1/2 [00:03<00:02,  2.93s/it]"
     ]
    },
    {
     "name": "stdout",
     "output_type": "stream",
     "text": [
      "tensor(99124.4375, device='cuda:0', grad_fn=<MseLossBackward0>)\n",
      "tensor(91023.1562, device='cuda:0', grad_fn=<MseLossBackward0>)\n",
      "tensor(91968.1953, device='cuda:0', grad_fn=<MseLossBackward0>)\n",
      "tensor(96819.0469, device='cuda:0', grad_fn=<MseLossBackward0>)\n"
     ]
    },
    {
     "name": "stderr",
     "output_type": "stream",
     "text": [
      "Iter 36, Loss: 82900.8672:  50%|█████████████████████████████████████                                     | 1/2 [00:03<00:02,  2.93s/it]"
     ]
    },
    {
     "name": "stdout",
     "output_type": "stream",
     "text": [
      "tensor(82913.5938, device='cuda:0', grad_fn=<MseLossBackward0>)\n",
      "tensor(94780.7656, device='cuda:0', grad_fn=<MseLossBackward0>)\n",
      "tensor(82900.8672, device='cuda:0', grad_fn=<MseLossBackward0>)\n",
      "tensor(83418.5312, device='cuda:0', grad_fn=<MseLossBackward0>)\n"
     ]
    },
    {
     "name": "stderr",
     "output_type": "stream",
     "text": [
      "Iter 40, Loss: 89490.5938:  50%|█████████████████████████████████████                                     | 1/2 [00:04<00:02,  2.93s/it]"
     ]
    },
    {
     "name": "stdout",
     "output_type": "stream",
     "text": [
      "tensor(99078.7891, device='cuda:0', grad_fn=<MseLossBackward0>)\n",
      "tensor(88106.3516, device='cuda:0', grad_fn=<MseLossBackward0>)\n",
      "tensor(89490.5938, device='cuda:0', grad_fn=<MseLossBackward0>)\n"
     ]
    },
    {
     "name": "stderr",
     "output_type": "stream",
     "text": [
      "Iter 43, Loss: 83542.9141:  50%|█████████████████████████████████████                                     | 1/2 [00:04<00:02,  2.93s/it]"
     ]
    },
    {
     "name": "stdout",
     "output_type": "stream",
     "text": [
      "tensor(102061.9297, device='cuda:0', grad_fn=<MseLossBackward0>)\n",
      "tensor(120528.3750, device='cuda:0', grad_fn=<MseLossBackward0>)\n",
      "tensor(83542.9141, device='cuda:0', grad_fn=<MseLossBackward0>)\n",
      "tensor(101794.5625, device='cuda:0', grad_fn=<MseLossBackward0>)\n"
     ]
    },
    {
     "name": "stderr",
     "output_type": "stream",
     "text": [
      "Iter 47, Loss: 105927.9844:  50%|████████████████████████████████████▌                                    | 1/2 [00:04<00:02,  2.93s/it]"
     ]
    },
    {
     "name": "stdout",
     "output_type": "stream",
     "text": [
      "tensor(90776.7031, device='cuda:0', grad_fn=<MseLossBackward0>)\n",
      "tensor(82695.3281, device='cuda:0', grad_fn=<MseLossBackward0>)\n",
      "tensor(105927.9844, device='cuda:0', grad_fn=<MseLossBackward0>)\n",
      "tensor(84320.8906, device='cuda:0', grad_fn=<MseLossBackward0>)\n"
     ]
    },
    {
     "name": "stderr",
     "output_type": "stream",
     "text": [
      "Iter 51, Loss: 86297.0625:  50%|█████████████████████████████████████                                     | 1/2 [00:04<00:02,  2.93s/it]"
     ]
    },
    {
     "name": "stdout",
     "output_type": "stream",
     "text": [
      "tensor(79436.0469, device='cuda:0', grad_fn=<MseLossBackward0>)\n",
      "tensor(90748.0156, device='cuda:0', grad_fn=<MseLossBackward0>)\n",
      "tensor(86297.0625, device='cuda:0', grad_fn=<MseLossBackward0>)\n",
      "tensor(84297.1328, device='cuda:0', grad_fn=<MseLossBackward0>)\n"
     ]
    },
    {
     "name": "stderr",
     "output_type": "stream",
     "text": [
      "Iter 54, Loss: 102234.9297:  50%|████████████████████████████████████▌                                    | 1/2 [00:04<00:02,  2.93s/it]"
     ]
    },
    {
     "name": "stdout",
     "output_type": "stream",
     "text": [
      "tensor(120417.6641, device='cuda:0', grad_fn=<MseLossBackward0>)\n",
      "tensor(102234.9297, device='cuda:0', grad_fn=<MseLossBackward0>)\n",
      "tensor(84967.1953, device='cuda:0', grad_fn=<MseLossBackward0>)\n"
     ]
    },
    {
     "name": "stderr",
     "output_type": "stream",
     "text": [
      "Iter 58, Loss: 87118.7500:  50%|█████████████████████████████████████                                     | 1/2 [00:05<00:02,  2.93s/it]"
     ]
    },
    {
     "name": "stdout",
     "output_type": "stream",
     "text": [
      "tensor(79351.5469, device='cuda:0', grad_fn=<MseLossBackward0>)\n",
      "tensor(91844.1094, device='cuda:0', grad_fn=<MseLossBackward0>)\n",
      "tensor(87118.7500, device='cuda:0', grad_fn=<MseLossBackward0>)\n",
      "tensor(94646.1484, device='cuda:0', grad_fn=<MseLossBackward0>)\n"
     ]
    },
    {
     "name": "stderr",
     "output_type": "stream",
     "text": [
      "Iter 59, Loss: 94646.1484: 100%|██████████████████████████████████████████████████████████████████████████| 2/2 [00:05<00:00,  2.67s/it]\n"
     ]
    }
   ],
   "source": [
    "from train import train\n",
    "train(size=20, lr=1e-4, batch=64, num_samples=128)"
   ]
  },
  {
   "cell_type": "code",
   "execution_count": null,
   "id": "e4a7baea",
   "metadata": {},
   "outputs": [],
   "source": []
  }
 ],
 "metadata": {
  "kernelspec": {
   "display_name": "Python 3",
   "language": "python",
   "name": "python3"
  },
  "language_info": {
   "codemirror_mode": {
    "name": "ipython",
    "version": 3
   },
   "file_extension": ".py",
   "mimetype": "text/x-python",
   "name": "python",
   "nbconvert_exporter": "python",
   "pygments_lexer": "ipython3",
   "version": "3.8.8"
  }
 },
 "nbformat": 4,
 "nbformat_minor": 5
}

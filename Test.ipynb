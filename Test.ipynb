{
 "cells": [
  {
   "cell_type": "code",
   "execution_count": 1,
   "id": "c7d770f9",
   "metadata": {},
   "outputs": [],
   "source": [
    "from prob import VRPDataset\n",
    "from solver import sweepHeuristic"
   ]
  },
  {
   "cell_type": "code",
   "execution_count": 2,
   "id": "1ad81f8a",
   "metadata": {},
   "outputs": [],
   "source": [
    "# load data\n",
    "data = VRPDataset(num_samples=10000)"
   ]
  },
  {
   "cell_type": "code",
   "execution_count": 3,
   "id": "1e2b22cc",
   "metadata": {},
   "outputs": [],
   "source": [
    "for ins in data:\n",
    "    # get info\n",
    "    depot = ins[\"depot\"].detach().numpy()\n",
    "    loc = ins[\"loc\"].detach().numpy()\n",
    "    demand = ins[\"demand\"].detach().numpy()\n",
    "    # run solver\n",
    "    solver = sweepHeuristic(depot, loc, demand)\n",
    "    break"
   ]
  },
  {
   "cell_type": "code",
   "execution_count": 4,
   "id": "2778d250",
   "metadata": {},
   "outputs": [
    {
     "name": "stdout",
     "output_type": "stream",
     "text": [
      "Set parameter Username\n",
      "Academic license - for non-commercial use only - expires 2021-12-31\n",
      "[[39, 20, 16, 7, 14, 18, 11], [3, 2, 47, 38, 35, 26, 28, 23, 17], [42, 30, 12, 25, 27], [0, 41, 24, 49, 31], [34, 37, 15, 5, 8, 1], [32, 10, 19, 46, 9], [36, 43, 22, 13, 29, 33, 45], [40, 6, 44, 21, 48, 4]]\n",
      "12.8012210342091\n"
     ]
    }
   ],
   "source": [
    "routes, obj = solver.solve()\n",
    "print(routes)\n",
    "print(obj)"
   ]
  },
  {
   "cell_type": "code",
   "execution_count": null,
   "id": "428b4620",
   "metadata": {},
   "outputs": [],
   "source": []
  }
 ],
 "metadata": {
  "kernelspec": {
   "display_name": "Python 3",
   "language": "python",
   "name": "python3"
  },
  "language_info": {
   "codemirror_mode": {
    "name": "ipython",
    "version": 3
   },
   "file_extension": ".py",
   "mimetype": "text/x-python",
   "name": "python",
   "nbconvert_exporter": "python",
   "pygments_lexer": "ipython3",
   "version": "3.8.8"
  }
 },
 "nbformat": 4,
 "nbformat_minor": 5
}
